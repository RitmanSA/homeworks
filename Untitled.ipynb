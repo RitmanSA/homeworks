{
 "cells": [
  {
   "cell_type": "code",
   "execution_count": 114,
   "id": "6823551f",
   "metadata": {},
   "outputs": [
    {
     "name": "stdout",
     "output_type": "stream",
     "text": [
      "0.009882\n"
     ]
    }
   ],
   "source": [
    "from random import randint\n",
    "unsuccess = 0\n",
    "for i in range (0, 2000000):    \n",
    "    change = 0\n",
    "    A = list(range(0,200))\n",
    "    while A:\n",
    "        deleted_element = A.pop(randint(0,len(A)-1))\n",
    "        if deleted_element % 2 == 0: #\n",
    "            change += 1\n",
    "        else:\n",
    "            change -= 1\n",
    "        if change < 0:\n",
    "            unsuccess +=1\n",
    "            break\n",
    "print((2000000-unsuccess)/2000000)"
   ]
  },
  {
   "cell_type": "code",
   "execution_count": null,
   "id": "e10e87ed",
   "metadata": {},
   "outputs": [],
   "source": []
  },
  {
   "cell_type": "code",
   "execution_count": null,
   "id": "795763cd",
   "metadata": {},
   "outputs": [],
   "source": []
  }
 ],
 "metadata": {
  "kernelspec": {
   "display_name": "Python 3",
   "language": "python",
   "name": "python3"
  },
  "language_info": {
   "codemirror_mode": {
    "name": "ipython",
    "version": 3
   },
   "file_extension": ".py",
   "mimetype": "text/x-python",
   "name": "python",
   "nbconvert_exporter": "python",
   "pygments_lexer": "ipython3",
   "version": "3.8.8"
  }
 },
 "nbformat": 4,
 "nbformat_minor": 5
}
