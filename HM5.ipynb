{
 "cells": [
  {
   "cell_type": "markdown",
   "id": "cf3ae727",
   "metadata": {},
   "source": [
    "Для того чтобы оценка за данную работу пошла в зачёт нужно отправить ссылку на нее в гит или ноутбук до <b> 17.10.2021 17:00 </b>."
   ]
  },
  {
   "cell_type": "markdown",
   "id": "cfc3e82d",
   "metadata": {},
   "source": [
    "<b>Задание 1.</b> Создайте массив, который состоит из целых чисел от -50 до 50 включительно. Затем удалите последние 25 элеметов массива. Затем разверните массив. Добавьте в конец массива 999. Создайте новый массив в который войдут все четные числа из ранее полученного массива и напечатайте его."
   ]
  },
  {
   "cell_type": "code",
   "execution_count": 88,
   "id": "f65fc6c1",
   "metadata": {},
   "outputs": [
    {
     "name": "stdout",
     "output_type": "stream",
     "text": [
      "24\n",
      "22\n",
      "20\n",
      "18\n",
      "16\n",
      "14\n",
      "12\n",
      "10\n",
      "8\n",
      "6\n",
      "4\n",
      "2\n",
      "0\n",
      "-2\n",
      "-4\n",
      "-6\n",
      "-8\n",
      "-10\n",
      "-12\n",
      "-14\n",
      "-16\n",
      "-18\n",
      "-20\n",
      "-22\n",
      "-24\n",
      "-26\n",
      "-28\n",
      "-30\n",
      "-32\n",
      "-34\n",
      "-36\n",
      "-38\n",
      "-40\n",
      "-42\n",
      "-44\n",
      "-46\n",
      "-48\n",
      "-50\n"
     ]
    }
   ],
   "source": [
    "# решение\n",
    "mas = []\n",
    "for i in range(-50, 51):\n",
    "    mas.append(i)\n",
    "for i in range(100, 75, -1):\n",
    "    mas.pop(i)\n",
    "mas.reverse()\n",
    "mas.append(999)\n",
    "new_mas = []\n",
    "for element in mas:\n",
    "    if element % 2 == 0:\n",
    "        new_mas.append(element)\n",
    "for element in new_mas:\n",
    "    print (element)"
   ]
  },
  {
   "cell_type": "markdown",
   "id": "4907145c",
   "metadata": {},
   "source": [
    "<b>Задание 2.</b> Даны несколько массивов целых чисел (A, B, C, D). Напишите программный код, с помощью которого вы сможете определить длину самой длинной непрерывной последовательности равных значений для каждого из массивов."
   ]
  },
  {
   "cell_type": "code",
   "execution_count": 89,
   "id": "02880b3a",
   "metadata": {},
   "outputs": [],
   "source": [
    "# [1, 1, 1, 2, 3, 4, 5, 6, 3, 4, 1, 1, 1, 1] - самая длинная последовательность длины 4\n",
    "A = [1] * 20 + [1, 1, 3] * 30 + [1] * 21\n",
    "\n",
    "B = list(range(1, 9, 2)) * 3 + list(range(4, 1, 1)) * 2 + [3] * 3\n",
    "B.pop()\n",
    "B.reverse()\n",
    "B.pop()\n",
    "B.reverse()\n",
    "\n",
    "C = [b - 2 for b in B]\n",
    "C.reverse()\n",
    "C =  A + C\n",
    "\n",
    "D = [777] + [666] + [1,2,1,1] * 2 + [1,1,1,1,3]*3 + [1, 4] * 2"
   ]
  },
  {
   "cell_type": "code",
   "execution_count": 90,
   "id": "a28bc2bc",
   "metadata": {
    "scrolled": false
   },
   "outputs": [
    {
     "name": "stdout",
     "output_type": "stream",
     "text": [
      "the longest sequence in A =  22\n",
      "the longest sequence in B =  2\n",
      "the longest sequence in C =  23\n",
      "the longest sequence in D =  6\n"
     ]
    }
   ],
   "source": [
    "# решение\n",
    "def the_longest(mas):\n",
    "    lngs = [1]\n",
    "    for i in range(1, len(mas)):\n",
    "        if mas[i] == mas[i - 1]:\n",
    "            lngs[len(lngs) - 1] += 1\n",
    "        else:\n",
    "            lngs.append(1)\n",
    "    return max(lngs)\n",
    "\n",
    "print(\"the longest sequence in A = \", the_longest(A))\n",
    "print(\"the longest sequence in B = \", the_longest(B))\n",
    "print(\"the longest sequence in C = \", the_longest(C))\n",
    "print(\"the longest sequence in D = \", the_longest(D))\n",
    "      "
   ]
  },
  {
   "cell_type": "markdown",
   "id": "8efc26b7",
   "metadata": {},
   "source": [
    "<b>Задание 3.</b> Напишите функция, которая на вход принимает прямоугольную матрицу и возвращает транспонированную матрицу. Протестируйте функцию на матрицах A, B, C."
   ]
  },
  {
   "cell_type": "code",
   "execution_count": 34,
   "id": "d27847e4",
   "metadata": {},
   "outputs": [],
   "source": [
    "A = [[1, 1], [1, 0]]\n",
    "B = [[2, 3, 4], [4, 5, 6], [7, -1, -2], [-4, -6, 99], [1, 0, 1]]\n",
    "C = [[1, 2, 3, 4, 5]]"
   ]
  },
  {
   "cell_type": "code",
   "execution_count": 87,
   "id": "8cce8472",
   "metadata": {},
   "outputs": [
    {
     "name": "stdout",
     "output_type": "stream",
     "text": [
      "[1, 1]\n",
      "[1, 0]\n",
      "[1, 1]\n",
      "[1, 0]\n",
      "[2, 3, 4]\n",
      "[4, 5, 6]\n",
      "[7, -1, -2]\n",
      "[-4, -6, 99]\n",
      "[1, 0, 1]\n",
      "[2, 4, 7, -4, 1]\n",
      "[3, 5, -1, -6, 0]\n",
      "[4, 6, -2, 99, 1]\n",
      "[1, 2, 3, 4, 5]\n",
      "[1]\n",
      "[2]\n",
      "[3]\n",
      "[4]\n",
      "[5]\n"
     ]
    }
   ],
   "source": [
    "# решение\n",
    "def transposed(matr):\n",
    "    t_matr = []\n",
    "    for i in range(len(matr[0])):\n",
    "        t_matr.append([])           \n",
    "    for i in range(len(matr)):\n",
    "        for j in range(len(matr[i])):\n",
    "            t_matr[j].append(matr[i][j])\n",
    "    return t_matr\n",
    "def print_matrix(matr):\n",
    "    for i in range (len(matr)):\n",
    "        print(matr[i])\n",
    "        \n",
    "print_matrix(A)\n",
    "print_matrix(transposed(A))        \n",
    "print_matrix(B)\n",
    "print_matrix(transposed(B))\n",
    "print_matrix(C)\n",
    "print_matrix(transposed(C))\n"
   ]
  },
  {
   "cell_type": "code",
   "execution_count": null,
   "id": "074354b7",
   "metadata": {},
   "outputs": [],
   "source": []
  },
  {
   "cell_type": "code",
   "execution_count": null,
   "id": "e15ae66a",
   "metadata": {},
   "outputs": [],
   "source": []
  }
 ],
 "metadata": {
  "kernelspec": {
   "display_name": "Python 3",
   "language": "python",
   "name": "python3"
  },
  "language_info": {
   "codemirror_mode": {
    "name": "ipython",
    "version": 3
   },
   "file_extension": ".py",
   "mimetype": "text/x-python",
   "name": "python",
   "nbconvert_exporter": "python",
   "pygments_lexer": "ipython3",
   "version": "3.8.8"
  }
 },
 "nbformat": 4,
 "nbformat_minor": 5
}
