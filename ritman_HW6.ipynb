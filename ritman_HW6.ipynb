{
 "cells": [
  {
   "cell_type": "markdown",
   "metadata": {},
   "source": [
    "- Создайте класс Point(x, y) x, y - координаты точки на плоскости.\n",
    "- Реализуйте два метода a.distanceTo(b) - евкливодов расстояние между $a$ и $b$\n",
    "- Переопределите __str__ так чтобы при печати экземпляра выводилось (x, y) - то есть координаты точки"
   ]
  },
  {
   "cell_type": "code",
   "execution_count": 1,
   "metadata": {},
   "outputs": [],
   "source": [
    "class Point:\n",
    "    def __init__(self, x, y):\n",
    "        self.x = x\n",
    "        self.y = y\n",
    "    \n",
    "    def __str__(self):\n",
    "        return \"(\" + str(self.x) + \",\" + str(self.y) +  \")\"\n",
    "    \n",
    "    def distanceTo(self, other):\n",
    "        return ((self.x - other.x)**2 + (self.y - other.y)**2)**0.5"
   ]
  },
  {
   "cell_type": "code",
   "execution_count": null,
   "metadata": {},
   "outputs": [],
   "source": []
  },
  {
   "cell_type": "markdown",
   "metadata": {},
   "source": [
    "- После того как Вы создадите класс запустите следующий код"
   ]
  },
  {
   "cell_type": "code",
   "execution_count": 2,
   "metadata": {},
   "outputs": [],
   "source": [
    "import random\n",
    "random.seed(42)\n",
    "points = list()\n",
    "for i in range(1000):\n",
    "    x = random.randint(1, 100)\n",
    "    y = random.randint(1, 100)\n",
    "    points.append(Point(x, y))"
   ]
  },
  {
   "cell_type": "markdown",
   "metadata": {},
   "source": [
    "- Напишите метод, который определит у какой из заданых точек больше всего соседей в радиусе 5.\n",
    "- Если таких точек несколько, то тогда выведите точку с наименьше суммой координат, если таких точек несколько, то выведите точку с наименьше абсциссой."
   ]
  },
  {
   "cell_type": "code",
   "execution_count": 19,
   "metadata": {},
   "outputs": [],
   "source": [
    "def neighboringPoints(mas):\n",
    "    maxNeighborsIndex = []\n",
    "    maxNeighborsNumber = 0\n",
    "    for i in range (len(mas)):\n",
    "        number = 0\n",
    "        for j in range (len(mas)):\n",
    "            if i != j:\n",
    "                if mas[i].distanceTo(mas[j]) <= 5:\n",
    "                    number+=1\n",
    "        if number > maxNeighborsNumber:\n",
    "            maxNeighborsNumber = number\n",
    "            maxNeighborsIndex = []\n",
    "            maxNeighborsIndex.append(i)\n",
    "        elif number == maxNeighborsNumber:\n",
    "            maxNeighborsIndex.append(i)\n",
    "            \n",
    "    if len(maxNeighborsIndex) == 1:\n",
    "        print ('element with max number of neighboring points: ', mas[maxNeighborsIndex[0]])\n",
    "    else:\n",
    "        minSumIndex = []\n",
    "        minSum = 200\n",
    "        print(maxNeighborsIndex)\n",
    "        for i in maxNeighborsIndex:\n",
    "            coordinateSum = mas[i].x + mas[i].y\n",
    "            if coordinateSum < minSum:\n",
    "                minSumIndex = []\n",
    "                minSumIndex.append(i)\n",
    "                minSum = coordinateSum\n",
    "            elif minSum == coordinateSum:\n",
    "                minSumIndex.append(i)\n",
    "        if len(minSumIndex) == 1:\n",
    "            print ('element with min sum of coordinates: ', mas[minSumIndex[0]] )\n",
    "        else:\n",
    "            minX = mas[minSumIndex[0]].x\n",
    "            minXIndex = minSumIndex[0]\n",
    "            for i in minSumIndex:\n",
    "                if mas[i].x < minX:\n",
    "                    minX = mas[i].x\n",
    "                    minXIndex = i\n",
    "            print('element with minimal X:', mas[minXIndex])"
   ]
  },
  {
   "cell_type": "code",
   "execution_count": 28,
   "metadata": {},
   "outputs": [
    {
     "name": "stdout",
     "output_type": "stream",
     "text": [
      "[219, 221, 340, 404, 482, 581, 785]\n",
      "element with min sum of coordinates:  (12,61)\n"
     ]
    }
   ],
   "source": [
    "neighboringPoints(points)"
   ]
  },
  {
   "cell_type": "code",
   "execution_count": null,
   "metadata": {},
   "outputs": [],
   "source": []
  },
  {
   "cell_type": "code",
   "execution_count": null,
   "metadata": {},
   "outputs": [],
   "source": []
  }
 ],
 "metadata": {
  "kernelspec": {
   "display_name": "Python 3",
   "language": "python",
   "name": "python3"
  },
  "language_info": {
   "codemirror_mode": {
    "name": "ipython",
    "version": 3
   },
   "file_extension": ".py",
   "mimetype": "text/x-python",
   "name": "python",
   "nbconvert_exporter": "python",
   "pygments_lexer": "ipython3",
   "version": "3.8.8"
  }
 },
 "nbformat": 4,
 "nbformat_minor": 4
}
