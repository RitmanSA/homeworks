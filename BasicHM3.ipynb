{
 "cells": [
  {
   "cell_type": "markdown",
   "id": "b9c9d72b",
   "metadata": {},
   "source": [
    "# Домашнее задание"
   ]
  },
  {
   "cell_type": "markdown",
   "id": "c3e7b675",
   "metadata": {},
   "source": [
    "1. Запишите в переменную значение <b>целочисленного</b> типа и проверьте тип переменной.\n",
    "2. Запишите в переменную <b>действительное</b> число и проверьте тип переменной.\n",
    "3. Запишите в переменную <b>строку</b> и проверьте тип переменной."
   ]
  },
  {
   "cell_type": "markdown",
   "id": "62d85c27",
   "metadata": {},
   "source": [
    "Python будет считать комментарием все, что находится после \"#\" и до конца строки.\n",
    "\n",
    "Всё что указано в строке после # игнорируется компилятором. "
   ]
  },
  {
   "cell_type": "code",
   "execution_count": 2,
   "id": "349d4f3a",
   "metadata": {},
   "outputs": [],
   "source": [
    "\n",
    "a = 3"
   ]
  },
  {
   "cell_type": "code",
   "execution_count": 3,
   "id": "d8f0f677",
   "metadata": {},
   "outputs": [
    {
     "data": {
      "text/plain": [
       "int"
      ]
     },
     "execution_count": 3,
     "metadata": {},
     "output_type": "execute_result"
    }
   ],
   "source": [
    "\n",
    "type(a)"
   ]
  },
  {
   "cell_type": "code",
   "execution_count": 4,
   "id": "de20e58a",
   "metadata": {},
   "outputs": [],
   "source": [
    "# решение\n",
    "b = -1.78"
   ]
  },
  {
   "cell_type": "code",
   "execution_count": 5,
   "id": "8c1db6f7",
   "metadata": {},
   "outputs": [
    {
     "data": {
      "text/plain": [
       "float"
      ]
     },
     "execution_count": 5,
     "metadata": {},
     "output_type": "execute_result"
    }
   ],
   "source": [
    "# решение\n",
    "type(b)\n"
   ]
  },
  {
   "cell_type": "code",
   "execution_count": 9,
   "id": "d5bc0981",
   "metadata": {},
   "outputs": [],
   "source": [
    "# решение\n",
    "c = \"String\""
   ]
  },
  {
   "cell_type": "code",
   "execution_count": 10,
   "id": "9ba447e9",
   "metadata": {},
   "outputs": [
    {
     "data": {
      "text/plain": [
       "str"
      ]
     },
     "execution_count": 10,
     "metadata": {},
     "output_type": "execute_result"
    }
   ],
   "source": [
    "# решение\n",
    "type(c)"
   ]
  },
  {
   "cell_type": "markdown",
   "id": "d04761ce",
   "metadata": {},
   "source": [
    "# Логические значения"
   ]
  },
  {
   "cell_type": "markdown",
   "id": "c6c47759",
   "metadata": {},
   "source": [
    "Логические значения True (истина) и False (ложь) представляет тип данных bool. У этого типа только два возможных значения и два соответствующих литерала: <b>True</b> и <b>False</b>."
   ]
  },
  {
   "cell_type": "code",
   "execution_count": 11,
   "id": "8e3c67ac",
   "metadata": {},
   "outputs": [
    {
     "name": "stdout",
     "output_type": "stream",
     "text": [
      "True\n"
     ]
    }
   ],
   "source": [
    "# пример\n",
    "logical_value = True\n",
    "print(logical_value)"
   ]
  },
  {
   "cell_type": "markdown",
   "id": "cb7ccaf8",
   "metadata": {},
   "source": [
    "Определенные для объектов типа bool операторы(and, or и not) известны как логические операторы и имеют общеизвестные определения:\n",
    "\n",
    "- a and b даёт True, если оба операнда True, иначе False\n",
    "- a or b даёт True, если хотя бы один операндов True, иначе False\n",
    "- not a даёт True, если a имеет значение False, иначе False"
   ]
  },
  {
   "cell_type": "code",
   "execution_count": 12,
   "id": "d0da50c9",
   "metadata": {
    "scrolled": true
   },
   "outputs": [
    {
     "data": {
      "text/plain": [
       "bool"
      ]
     },
     "execution_count": 12,
     "metadata": {},
     "output_type": "execute_result"
    }
   ],
   "source": [
    "# проверим тип литерала True\n",
    "type(True)"
   ]
  },
  {
   "cell_type": "code",
   "execution_count": 13,
   "id": "e2175110",
   "metadata": {},
   "outputs": [
    {
     "name": "stdout",
     "output_type": "stream",
     "text": [
      "<class 'bool'>\n"
     ]
    }
   ],
   "source": [
    "# проверим тип литерала True\n",
    "print(type(True))"
   ]
  },
  {
   "cell_type": "code",
   "execution_count": 14,
   "id": "9dfe8968",
   "metadata": {},
   "outputs": [
    {
     "name": "stdout",
     "output_type": "stream",
     "text": [
      "1 2 3\n",
      "Hello people :-)\n"
     ]
    }
   ],
   "source": [
    "# пример: метод print() может выводить сразу несколько переменных, если их указать через запятую, между выводимыми\n",
    "# значениями ставится пробел\n",
    "print(1, 2, 3)\n",
    "print('Hello', 'people :-)')"
   ]
  },
  {
   "cell_type": "code",
   "execution_count": 15,
   "id": "cdc04590",
   "metadata": {},
   "outputs": [
    {
     "name": "stdout",
     "output_type": "stream",
     "text": [
      "a = True\n",
      "b = True\n",
      "a and b = True\n",
      "a or b = True\n",
      "not a = False\n",
      "_________________\n",
      "a = True\n",
      "b = False\n",
      "a and b = False\n",
      "a or b = True\n",
      "not a = False\n",
      "_________________\n",
      "a = False\n",
      "b = False\n",
      "a and b = False\n",
      "a or b = False\n",
      "not a = True\n"
     ]
    }
   ],
   "source": [
    "# пример\n",
    "a = True\n",
    "b = True\n",
    "print('a =', a)\n",
    "print('b =', b)\n",
    "print('a and b =', a and b)\n",
    "print('a or b =', a or b)\n",
    "print('not a =', not a)\n",
    "\n",
    "\n",
    "print('_________________')\n",
    "\n",
    "a = True\n",
    "b = False\n",
    "print('a =', a)\n",
    "print('b =', b)\n",
    "print('a and b =', a and b)\n",
    "print('a or b =', a or b)\n",
    "print('not a =', not a)\n",
    "\n",
    "print('_________________')\n",
    "\n",
    "a = False\n",
    "b = False\n",
    "print('a =', a)\n",
    "print('b =', b)\n",
    "print('a and b =', a and b)\n",
    "print('a or b =', a or b)\n",
    "print('not a =', not a)"
   ]
  },
  {
   "cell_type": "markdown",
   "id": "2973a18e",
   "metadata": {},
   "source": [
    "### Больше, меньше, равно"
   ]
  },
  {
   "cell_type": "markdown",
   "id": "2ba754de",
   "metadata": {},
   "source": [
    "Результатом сравнения операндов типа int является тип bool"
   ]
  },
  {
   "cell_type": "code",
   "execution_count": 16,
   "id": "06f8b8c5",
   "metadata": {},
   "outputs": [
    {
     "name": "stdout",
     "output_type": "stream",
     "text": [
      "a==b это False\n",
      "a!=b это True\n",
      "a>b это False\n",
      "a>=b это False\n",
      "a<b это True\n",
      "a<=b это True\n"
     ]
    }
   ],
   "source": [
    "# пример\n",
    "a = 5\n",
    "b = 10\n",
    "print('a==b это', a==b) # == это проверка на равенство\n",
    "print('a!=b это', a!=b) # != проверка на не равенство иными словами не равно\n",
    "print('a>b это', a>b) # > - оператор больше\n",
    "print('a>=b это', a>=b) # >= - больше или равно\n",
    "print('a<b это', a<b) # < - оператор меньше\n",
    "print('a<=b это', a<=b) # <= - оператор меньше или равно"
   ]
  },
  {
   "cell_type": "markdown",
   "id": "0639bf22",
   "metadata": {},
   "source": [
    "4. Проверьте больше ли 2 в 14, чем 3 в 9. "
   ]
  },
  {
   "cell_type": "code",
   "execution_count": 51,
   "id": "10824f9b",
   "metadata": {},
   "outputs": [
    {
     "name": "stdout",
     "output_type": "stream",
     "text": [
      "False\n"
     ]
    }
   ],
   "source": [
    "# решение\n",
    "a = 2**14\n",
    "b = 3**9\n",
    "print(a>b)"
   ]
  },
  {
   "cell_type": "markdown",
   "id": "ac8fcf0b",
   "metadata": {},
   "source": [
    "# Условные выражения и циклы"
   ]
  },
  {
   "cell_type": "markdown",
   "id": "8ec9f38e",
   "metadata": {},
   "source": [
    "Рассмотрим операторы языка Python, реализующие условные выражения (conditional), где некие другие операторы могут быть выполнены или не выполнены в зависимости от определённых условий, и циклы, где некие другие операторы могут быть выполнены многократно, опять же взависимости от определенных условий."
   ]
  },
  {
   "cell_type": "markdown",
   "id": "a600d182",
   "metadata": {},
   "source": [
    "<b>Оператор</b> if. Часто для разных исходных данных требуются разные действия. (Допустим, если мы хотим реализовать функцию модуль, то в случае отрицательного числа, нужно вернуть число со знаком минус, иначе само число). Одним из способов выражения этих различий в языке Python является оператор if:"
   ]
  },
  {
   "cell_type": "code",
   "execution_count": null,
   "id": "33e19153",
   "metadata": {},
   "outputs": [],
   "source": [
    "#if <логическое выражение>:\n",
    "#   <оператор>\n",
    "#   <оператор>\n",
    "#   <оператор>\n",
    "#   <оператор>"
   ]
  },
  {
   "cell_type": "markdown",
   "id": "80841efd",
   "metadata": {},
   "source": [
    "Эта форма записи известна, как шаблон и используется для описания формата конструкций языка Python. В угловых скобках (<>)  приводят уже определенную конструкцию, означа, что в этом месте можно использовать любой её экземпляр.\n",
    "\n",
    "В данном случае <логическое выражение> представляет выражение, возвращающее результат логичекого типа, а <оператор> представляет выполнимый оператор(это могут быть самые разные операторы)\n",
    "\n",
    "Python выполняет операторы с отступом(tab), если и только если логическое выражение истинно. Набор операторов с отступом называется блоком. Первая строка без отступа отмечает конец блока."
   ]
  },
  {
   "cell_type": "code",
   "execution_count": 20,
   "id": "0bd98de0",
   "metadata": {},
   "outputs": [
    {
     "name": "stdout",
     "output_type": "stream",
     "text": [
      "5\n"
     ]
    }
   ],
   "source": [
    "# пример: модуль числа\n",
    "x = -5 # можете задать любое число\n",
    "if x < 0: \n",
    "    x = -x # так как следующая строка уже без отступа, то блок заканчивается в конце данной строки. \n",
    "print(x) # выполнится в любом случае так как находится вне блока"
   ]
  },
  {
   "cell_type": "code",
   "execution_count": 21,
   "id": "68f18816",
   "metadata": {},
   "outputs": [
    {
     "name": "stdout",
     "output_type": "stream",
     "text": [
      "x1: 1\n",
      "x2: 5\n"
     ]
    }
   ],
   "source": [
    "# пример: расположение x1, x2 в порядке возрастания(x1<=x2)\n",
    "x1 = 5 \n",
    "x2 = 1\n",
    "if x1 > x2: # если порядок нарушен, то на нужно поменять значения x1  и x2, для этого\n",
    "    temp = x1 # сохраняем значение первой переменной в temp \n",
    "    x1 = x2 # записываем x2 в x1, так как ранее мы сохранили значение x1, то данное значение не будет потеряно\n",
    "    x2 = temp # записываем ранее сохранённое в переменную temp значение x1\n",
    "print('x1:', x1)\n",
    "print('x2:', x2) # получаем порядок, которые хотели"
   ]
  },
  {
   "cell_type": "markdown",
   "id": "b8545756",
   "metadata": {},
   "source": [
    "<b>Директива </b> else. К оператору if  можно добавить директиву else, позволяющую выполнить один оператор (или блок операторов) в одном случае, а другой оператор (или блок операторов) - в другом случае, в зависимости от истинности или или ложности результата логического выражения, как в следующем шаблоне"
   ]
  },
  {
   "cell_type": "code",
   "execution_count": null,
   "id": "cae70c9d",
   "metadata": {},
   "outputs": [],
   "source": [
    "#if <логическое выражение>:\n",
    "#   <оператор>\n",
    "#   <оператор>\n",
    "#   <оператор>\n",
    "#   <оператор>\n",
    "#else: блок операторов (или оператор) идующий за esle выполняется, если логическое выражение равно False т. е.  ложно\n",
    "#   <оператор>\n",
    "#   <оператор>\n",
    "#   <оператор>"
   ]
  },
  {
   "cell_type": "code",
   "execution_count": 22,
   "id": "854b5364",
   "metadata": {},
   "outputs": [
    {
     "name": "stdout",
     "output_type": "stream",
     "text": [
      "max: 20\n"
     ]
    }
   ],
   "source": [
    "# пример: нахождение максимума из двух чисел\n",
    "x = 10\n",
    "y = 20\n",
    "if  x > y:  #сравниваем числа х и у, если х больше у, то х максимум иначе(else) у - максимум\n",
    "    maximum = x\n",
    "else:\n",
    "    maximum = y\n",
    "print('max:', maximum) # выводим на экран максимальное значение"
   ]
  },
  {
   "cell_type": "markdown",
   "id": "ba1cfc2f",
   "metadata": {},
   "source": [
    "5. Реализуйте вывод минимум для двух произвольных числе x, y. Поменяйте х и у, проверьте правильно ли работает программа при различных значениях."
   ]
  },
  {
   "cell_type": "code",
   "execution_count": 28,
   "id": "4933a1ff",
   "metadata": {},
   "outputs": [
    {
     "name": "stdout",
     "output_type": "stream",
     "text": [
      "min: 99\n"
     ]
    }
   ],
   "source": [
    "# решение\n",
    "x = 111\n",
    "y = 99\n",
    "if x > y:\n",
    "    minimum = y\n",
    "else:\n",
    "    minimum = x\n",
    "print(\"min:\", minimum)"
   ]
  },
  {
   "cell_type": "markdown",
   "id": "136d8517",
   "metadata": {},
   "source": [
    "6.(необязательное задание) Реализуйте выводи максимума для трёх произвольных чисел. x, y, z."
   ]
  },
  {
   "cell_type": "code",
   "execution_count": 29,
   "id": "89c0ebfc",
   "metadata": {},
   "outputs": [
    {
     "name": "stdout",
     "output_type": "stream",
     "text": [
      "x1>0 and x2<0\n"
     ]
    }
   ],
   "source": [
    "# пример: можно вкладывать условные операторы\n",
    "x1 = 5\n",
    "x2 = -1\n",
    "if x1 > 0:\n",
    "    if x2 < 0:\n",
    "        print(\"x1>0 and x2<0\")"
   ]
  },
  {
   "cell_type": "code",
   "execution_count": null,
   "id": "ec57154f",
   "metadata": {},
   "outputs": [],
   "source": [
    "# пример: код выше можно реализовать через оператор and"
   ]
  },
  {
   "cell_type": "code",
   "execution_count": 30,
   "id": "c9ecd68f",
   "metadata": {},
   "outputs": [
    {
     "name": "stdout",
     "output_type": "stream",
     "text": [
      "x1>0 and x2<0\n"
     ]
    }
   ],
   "source": [
    "x1 = 5 \n",
    "x2 = -1\n",
    "if x1 > 0 and x2 < 0:\n",
    "    print(\"x1>0 and x2<0\")"
   ]
  },
  {
   "cell_type": "code",
   "execution_count": 34,
   "id": "ed90b893",
   "metadata": {},
   "outputs": [
    {
     "name": "stdout",
     "output_type": "stream",
     "text": [
      "30\n"
     ]
    }
   ],
   "source": [
    "x1 = 15\n",
    "x2 = 10\n",
    "x3 = 30\n",
    "if x1>x2:\n",
    "    if x1>x3:\n",
    "        max = x1\n",
    "    else:\n",
    "        max = x3\n",
    "else:\n",
    "    if x2 > x3:\n",
    "        max = x2\n",
    "    else:\n",
    "        max = x3\n",
    "print(max)\n",
    "            "
   ]
  },
  {
   "cell_type": "markdown",
   "id": "833b5d28",
   "metadata": {},
   "source": [
    "# Списки"
   ]
  },
  {
   "cell_type": "markdown",
   "id": "a5d3783b",
   "metadata": {},
   "source": [
    "## Списки / массивы "
   ]
  },
  {
   "cell_type": "markdown",
   "id": "76bde741",
   "metadata": {},
   "source": [
    "В этой части рассмотрим фундаментальные свойства массива в языке Python.\n",
    "\n",
    "Структура данных - способ организации данных, необходимых для их обработки компьютерной программой.\n",
    "\n",
    "Одномерный массив - структура данных, хранящая последовательность ссылок на объекты. Хранимые в массивах объекты являются его элементами. Для обращения к элементам массива их нумеруют, а затем индексируют. Если в последовательности $n$ элементов, то их считают пронумерованными от $0$ до $n-1$. Любой из них можно однозначно идентифицировать по номеру(индексу $i$) в этом диапазоне.\n",
    "\n",
    "Двумерный массив - массив ссылок на одномерные массивы. Принимая во внимание, что элементы одномерного массива индексируются одиночным целым числом, элементы двумерного массива индексируются двумя целыми числами: первое - определение ряда, второе - определение столбца.\n",
    "\n",
    "Зачастую, когда объем данных велик их помещают в один или несколько массивов, а затем, используя индексацию, обращаются к их индивидуальным элементам и обрабатывают. Допустим, если имеется 10000 записей курса акций и мы хотим найти самый высокий курс, то хранение в массиве будет более удобным, чем создание 10000 новых переменных."
   ]
  },
  {
   "cell_type": "markdown",
   "id": "fa0fa9bd",
   "metadata": {},
   "source": [
    "<b>Массивы(Списки)</b> в Python. Самый простой способ создания массива в языке Python - поместить разделяемый список литералов в квадратные скобки"
   ]
  },
  {
   "cell_type": "code",
   "execution_count": 35,
   "id": "1b1561ba",
   "metadata": {},
   "outputs": [],
   "source": [
    "# пример\n",
    "names = ['Anna', 'Olga', 'Petr', 'Vasya'] # создаёт массив(список) из четырёх строк \n",
    "                                          #и сохраняет ссылку на него в переменную names"
   ]
  },
  {
   "cell_type": "code",
   "execution_count": 36,
   "id": "466c3d55",
   "metadata": {},
   "outputs": [],
   "source": [
    "# пример\n",
    "x = [0.3, 0.6, 0.1] \n",
    "y = [0.15, 0.2, 0.45]\n",
    "# создаёт два массива состоящих из трёх действительных чисел"
   ]
  },
  {
   "cell_type": "markdown",
   "id": "9ec78109",
   "metadata": {},
   "source": [
    "Каждый массив - это объект, содержащий данные (точнее ссылки на объекты), структурированные для более эффективного доступа.\n",
    "\n",
    "После создания массива любой его объект можно использовать в программе везде, где использовалось бы имя переменной. Для этого указывают имя массива? сопровождаемое целочисленным индексом в квадратных скобках. В приведенных примерах элемент $names[1]$ ссылается на значение 'Olga', x[0] = 0.3, а y[2]=0.45.\n",
    "\n",
    "Обратите внимание, что $x$ - это ссылка на весь массив, а x[i] - ссылка на i-ый элемент массива(списка)."
   ]
  },
  {
   "cell_type": "code",
   "execution_count": 37,
   "id": "9a451e16",
   "metadata": {},
   "outputs": [
    {
     "data": {
      "text/plain": [
       "'Olga'"
      ]
     },
     "execution_count": 37,
     "metadata": {},
     "output_type": "execute_result"
    }
   ],
   "source": [
    "# пример\n",
    "names[1] # действительно Ольга"
   ]
  },
  {
   "cell_type": "code",
   "execution_count": 38,
   "id": "f2236447",
   "metadata": {},
   "outputs": [
    {
     "data": {
      "text/plain": [
       "0.3"
      ]
     },
     "execution_count": 38,
     "metadata": {},
     "output_type": "execute_result"
    }
   ],
   "source": [
    "# пример\n",
    "x[0] # = 0.3?"
   ]
  },
  {
   "cell_type": "code",
   "execution_count": 39,
   "id": "6018a598",
   "metadata": {},
   "outputs": [
    {
     "data": {
      "text/plain": [
       "0.45"
      ]
     },
     "execution_count": 39,
     "metadata": {},
     "output_type": "execute_result"
    }
   ],
   "source": [
    "# пример\n",
    "y[2] # = 0.45?"
   ]
  },
  {
   "cell_type": "markdown",
   "id": "8547b75f",
   "metadata": {},
   "source": [
    "Очевидное преимущество использование массив - возможность избежать индивидуального обращения к каждой переменной. Использование индекса массива - практически то же, что и добавление индекса к имени переменной. Например, если нужно обработать 8 значений float, то к каждому из них можно индивидуально обратиться по именам переменной: $a0, a1, ..., a7$. Если в случае 8 значений это ещё реально сделать, то обозначение множества индивидуальных переменных таким образом было бы слишком громоздким, в случае миллионов значений."
   ]
  },
  {
   "cell_type": "code",
   "execution_count": 40,
   "id": "ca5bf19e",
   "metadata": {},
   "outputs": [],
   "source": [
    "# пример\n",
    "a0 = 1\n",
    "a1 = 2\n",
    "a2 = 3\n",
    "a3 = 4\n",
    "a4 = 5\n",
    "a5 = 6\n",
    "a6 = 7\n",
    "a7 = 8"
   ]
  },
  {
   "cell_type": "code",
   "execution_count": 41,
   "id": "93d72d42",
   "metadata": {},
   "outputs": [],
   "source": [
    "# пример\n",
    "a = [1, 2, 3, 4, 5, 6, 7, 8]"
   ]
  },
  {
   "cell_type": "code",
   "execution_count": 42,
   "id": "b171ed47",
   "metadata": {},
   "outputs": [
    {
     "name": "stdout",
     "output_type": "stream",
     "text": [
      "1\n",
      "1\n"
     ]
    }
   ],
   "source": [
    "# пример получения 1 элемента\n",
    "print(a0)\n",
    "print(a[0]) # записи примерно похожи по виду, но в одном случае введено 8 переменных, в другом одна и обращение происходит по индексу"
   ]
  },
  {
   "cell_type": "markdown",
   "id": "099e21c5",
   "metadata": {},
   "source": [
    "7. Создайте список состоящий из строк \"Красный\", \"Черный\", \"Желтый\", \"Коричневый\", \"Оранжевый\" и назовите его colors."
   ]
  },
  {
   "cell_type": "code",
   "execution_count": 43,
   "id": "c2063d3e",
   "metadata": {},
   "outputs": [],
   "source": [
    "# решение\n",
    "colors = [\"red\", \"black\", \"yellow\", \"brown\", \"orange\"]"
   ]
  },
  {
   "cell_type": "markdown",
   "id": "9ebafa54",
   "metadata": {},
   "source": [
    "8. Сохраните в перемнную yellow_color третий элемент списка."
   ]
  },
  {
   "cell_type": "code",
   "execution_count": 44,
   "id": "4c63a58c",
   "metadata": {},
   "outputs": [],
   "source": [
    "# решение\n",
    "yellow_color = colors[2]"
   ]
  },
  {
   "cell_type": "markdown",
   "id": "e3ebe09b",
   "metadata": {},
   "source": [
    "9. Используя метод print() выведите на экран значение переменной yellow_color"
   ]
  },
  {
   "cell_type": "code",
   "execution_count": 45,
   "id": "a4b82d60",
   "metadata": {},
   "outputs": [
    {
     "name": "stdout",
     "output_type": "stream",
     "text": [
      "yellow\n"
     ]
    }
   ],
   "source": [
    "# решение\n",
    "print(yellow_color)"
   ]
  },
  {
   "cell_type": "markdown",
   "id": "ab6cb139",
   "metadata": {},
   "source": [
    "10. Используя метод replace, замените в переменной yellow_color символы е на о. <br>\n",
    "Метод replace применяется след. образом \"некоторая строка или переменная\".replace('что хотите поменять', 'на что хотите поменять')"
   ]
  },
  {
   "cell_type": "code",
   "execution_count": 46,
   "id": "7a41a7ca",
   "metadata": {
    "scrolled": true
   },
   "outputs": [
    {
     "data": {
      "text/plain": [
       "'My name is Petr'"
      ]
     },
     "execution_count": 46,
     "metadata": {},
     "output_type": "execute_result"
    }
   ],
   "source": [
    "# пример\n",
    "\"My name is Vasya\".replace(\"Vasya\", \"Petr\") "
   ]
  },
  {
   "cell_type": "code",
   "execution_count": 47,
   "id": "ad3a37bd",
   "metadata": {
    "scrolled": true
   },
   "outputs": [
    {
     "data": {
      "text/plain": [
       "'aaaEE'"
      ]
     },
     "execution_count": 47,
     "metadata": {},
     "output_type": "execute_result"
    }
   ],
   "source": [
    "# пример\n",
    "# можно применять replace несколько раз подряд\n",
    "\"AaaEe\".replace(\"A\", \"a\").replace(\"e\", \"E\")"
   ]
  },
  {
   "cell_type": "code",
   "execution_count": 48,
   "id": "c1e803a3",
   "metadata": {},
   "outputs": [
    {
     "data": {
      "text/plain": [
       "'yollow'"
      ]
     },
     "execution_count": 48,
     "metadata": {},
     "output_type": "execute_result"
    }
   ],
   "source": [
    "# решение\n",
    "yellow_color.replace(\"e\",\"o\")"
   ]
  },
  {
   "cell_type": "code",
   "execution_count": 50,
   "id": "74f85430",
   "metadata": {},
   "outputs": [
    {
     "name": "stdout",
     "output_type": "stream",
     "text": [
      "1024\n"
     ]
    }
   ],
   "source": []
  },
  {
   "cell_type": "code",
   "execution_count": null,
   "id": "0a164f60",
   "metadata": {},
   "outputs": [],
   "source": []
  }
 ],
 "metadata": {
  "kernelspec": {
   "display_name": "Python 3",
   "language": "python",
   "name": "python3"
  },
  "language_info": {
   "codemirror_mode": {
    "name": "ipython",
    "version": 3
   },
   "file_extension": ".py",
   "mimetype": "text/x-python",
   "name": "python",
   "nbconvert_exporter": "python",
   "pygments_lexer": "ipython3",
   "version": "3.8.8"
  }
 },
 "nbformat": 4,
 "nbformat_minor": 5
}
